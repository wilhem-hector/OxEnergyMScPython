{
 "cells": [
  {
   "cell_type": "markdown",
   "id": "ca21f0bd",
   "metadata": {},
   "source": [
    "Needs and __init__.py file in a package in order for you to be able to call the functions \n",
    "\n",
    "Requests: Use to request stuff from websites\n",
    "- Pull from SCADA, RTU, IoT gateway apis for real time sensor data\n",
    "- Download large measurement logs\n",
    "- Submit optimization problems to remote solvers\n",
    "- Forecasting pipelines: Retrieve PV data\n",
    "\n",
    "PandasPower:\n",
    "\n",
    "PyPSA: \n",
    "\n",
    "Darts: Open source Python library fo Time Series forecast and analysis\n",
    "- Energy Demand, Electricity Price, Anomaly Detection "
   ]
  },
  {
   "cell_type": "markdown",
   "id": "2ced9b0d",
   "metadata": {},
   "source": []
  }
 ],
 "metadata": {
  "kernelspec": {
   "display_name": "energy_systems",
   "language": "python",
   "name": "python3"
  },
  "language_info": {
   "codemirror_mode": {
    "name": "ipython",
    "version": 3
   },
   "file_extension": ".py",
   "mimetype": "text/x-python",
   "name": "python",
   "nbconvert_exporter": "python",
   "pygments_lexer": "ipython3",
   "version": "3.12.12"
  }
 },
 "nbformat": 4,
 "nbformat_minor": 5
}
