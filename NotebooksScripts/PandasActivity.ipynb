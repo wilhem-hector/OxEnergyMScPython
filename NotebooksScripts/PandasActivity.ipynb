{
 "cells": [
  {
   "cell_type": "markdown",
   "metadata": {},
   "source": [
    "# Pandas\n",
    "Pandas is the go-to for data processing in python. (it is built on Numpy).\n",
    "\n",
    "Pandas provides tabular data structures for high-performance functions to analyse, clean, explore, and manipulate ‘big’ multidimensional and heterogeneous data.\n",
    "\n",
    "Think of Pandas data structures like you would a spreadsheet (like in Excel) or an SQL table – but faster, easier and more powerful.\n",
    "\n",
    "Pandas has two core data structures:\n",
    "\n",
    "**Series** - A one-dimensional labelled homogeneous array containing data of any type. It is similar to a list, but has additional features such as indexing, slicing, and missing value handling. \n",
    "\n",
    "**DataFrame** - A two-dimensional, labelled, and heterogeneous tabular data structure with its own indexing system.\n",
    "\n",
    "First, lets make sure pandas has been imported:"
   ]
  },
  {
   "cell_type": "code",
   "execution_count": 1,
   "metadata": {},
   "outputs": [],
   "source": [
    "import pandas as pd"
   ]
  },
  {
   "cell_type": "markdown",
   "metadata": {},
   "source": [
    "## Let's work with Pandas Dataframes\n",
    "The first step will involve you creating a hypothetical dataframe and then you will move on to importing energy data with Pandas to perform basic descriptive statistics.\n",
    "\n",
    "There are many ways to create a DataFrame, from scratch, most closely resemble a python dictionary with nested lists."
   ]
  },
  {
   "cell_type": "code",
   "execution_count": 2,
   "metadata": {},
   "outputs": [
    {
     "data": {
      "application/vnd.microsoft.datawrangler.viewer.v0+json": {
       "columns": [
        {
         "name": "index",
         "rawType": "int64",
         "type": "integer"
        },
        {
         "name": "Country",
         "rawType": "object",
         "type": "string"
        },
        {
         "name": "Primary Energy Consumption (TWh)",
         "rawType": "int64",
         "type": "integer"
        }
       ],
       "ref": "4128841c-0db9-48b4-b234-c1c7793e60d7",
       "rows": [
        [
         "0",
         "Namibia",
         "22"
        ],
        [
         "1",
         "Portugal",
         "258"
        ],
        [
         "2",
         "Egypt",
         "1105"
        ],
        [
         "3",
         "Haiti",
         "12"
        ],
        [
         "4",
         "Thailand",
         "1406"
        ],
        [
         "5",
         "Bolivia",
         "85"
        ],
        [
         "6",
         "Estonia",
         "62"
        ]
       ],
       "shape": {
        "columns": 2,
        "rows": 7
       }
      },
      "text/html": [
       "<div>\n",
       "<style scoped>\n",
       "    .dataframe tbody tr th:only-of-type {\n",
       "        vertical-align: middle;\n",
       "    }\n",
       "\n",
       "    .dataframe tbody tr th {\n",
       "        vertical-align: top;\n",
       "    }\n",
       "\n",
       "    .dataframe thead th {\n",
       "        text-align: right;\n",
       "    }\n",
       "</style>\n",
       "<table border=\"1\" class=\"dataframe\">\n",
       "  <thead>\n",
       "    <tr style=\"text-align: right;\">\n",
       "      <th></th>\n",
       "      <th>Country</th>\n",
       "      <th>Primary Energy Consumption (TWh)</th>\n",
       "    </tr>\n",
       "  </thead>\n",
       "  <tbody>\n",
       "    <tr>\n",
       "      <th>0</th>\n",
       "      <td>Namibia</td>\n",
       "      <td>22</td>\n",
       "    </tr>\n",
       "    <tr>\n",
       "      <th>1</th>\n",
       "      <td>Portugal</td>\n",
       "      <td>258</td>\n",
       "    </tr>\n",
       "    <tr>\n",
       "      <th>2</th>\n",
       "      <td>Egypt</td>\n",
       "      <td>1105</td>\n",
       "    </tr>\n",
       "    <tr>\n",
       "      <th>3</th>\n",
       "      <td>Haiti</td>\n",
       "      <td>12</td>\n",
       "    </tr>\n",
       "    <tr>\n",
       "      <th>4</th>\n",
       "      <td>Thailand</td>\n",
       "      <td>1406</td>\n",
       "    </tr>\n",
       "    <tr>\n",
       "      <th>5</th>\n",
       "      <td>Bolivia</td>\n",
       "      <td>85</td>\n",
       "    </tr>\n",
       "    <tr>\n",
       "      <th>6</th>\n",
       "      <td>Estonia</td>\n",
       "      <td>62</td>\n",
       "    </tr>\n",
       "  </tbody>\n",
       "</table>\n",
       "</div>"
      ],
      "text/plain": [
       "    Country  Primary Energy Consumption (TWh)\n",
       "0   Namibia                                22\n",
       "1  Portugal                               258\n",
       "2     Egypt                              1105\n",
       "3     Haiti                                12\n",
       "4  Thailand                              1406\n",
       "5   Bolivia                                85\n",
       "6   Estonia                                62"
      ]
     },
     "execution_count": 2,
     "metadata": {},
     "output_type": "execute_result"
    }
   ],
   "source": [
    "df = pd.DataFrame({\"Country\": [\"Namibia\", \"Portugal\", \"Egypt\", \"Haiti\", \"Thailand\", \"Bolivia\", \"Estonia\"],\n",
    "                   \"Primary Energy Consumption (TWh)\": [22, 258, 1105, 12, 1406, 85, 62]})\n",
    "df"
   ]
  },
  {
   "attachments": {},
   "cell_type": "markdown",
   "metadata": {},
   "source": [
    "## Activity 1: Creating your own data and placing it into a Pandas dataframe   \n",
    "\n",
    "1. Using data from [OurWorldInData](https://ourworldindata.org/grapher/primary-sub-energy-source?tab=table), create a DataFrame for your group’s country which contains the primary energy consumption by source for at least 3 year and at least 3 sources.\n",
    "\n",
    "     Your index should be the year, and your columns should be the energy source\n",
    "\n",
    "2. Use the ```.mean()``` and ```.describe()``` methods for your data. Try setting the ```axis``` keyword to 0 or 1. What does it do?\n",
    "3. Try plotting the data using the .plot() method. Change the type of plot using the ```kind``` keyword argument.\n"
   ]
  },
  {
   "cell_type": "code",
   "execution_count": 3,
   "metadata": {},
   "outputs": [],
   "source": [
    "# create your dataframe here\n",
    "bangladesh_df = pd.read_csv(r\"C:\\Users\\hecto\\Documents\\GitHub\\OxEnergyMScPython\\Data\\primary-sub-energy-source.csv\")\n",
    "bangladesh_df = bangladesh_df.iloc[640:700, :]\n",
    "bangladesh_df.set_index(\"Year\", inplace=True)\n"
   ]
  },
  {
   "cell_type": "code",
   "execution_count": 4,
   "metadata": {},
   "outputs": [],
   "source": [
    "  # Remove two columns\n",
    "bangladesh_df = bangladesh_df.drop([\"Entity\", \"Code\"], axis = 1)"
   ]
  },
  {
   "cell_type": "code",
   "execution_count": 5,
   "metadata": {},
   "outputs": [
    {
     "data": {
      "application/vnd.microsoft.datawrangler.viewer.v0+json": {
       "columns": [
        {
         "name": "index",
         "rawType": "object",
         "type": "string"
        },
        {
         "name": "Wind consumption - TWh",
         "rawType": "float64",
         "type": "float"
        },
        {
         "name": "Hydro consumption - TWh",
         "rawType": "float64",
         "type": "float"
        },
        {
         "name": "Solar consumption - TWh",
         "rawType": "float64",
         "type": "float"
        },
        {
         "name": "Nuclear consumption - TWh",
         "rawType": "float64",
         "type": "float"
        },
        {
         "name": "Biofuels consumption - TWh",
         "rawType": "float64",
         "type": "float"
        },
        {
         "name": "Other renewables (including geothermal and biomass) - TWh",
         "rawType": "float64",
         "type": "float"
        },
        {
         "name": "Coal consumption - TWh",
         "rawType": "float64",
         "type": "float"
        },
        {
         "name": "Oil consumption - TWh",
         "rawType": "float64",
         "type": "float"
        },
        {
         "name": "Gas consumption - TWh",
         "rawType": "float64",
         "type": "float"
        }
       ],
       "ref": "252199a1-e25d-4d38-9e0f-ddd9c30c7fb2",
       "rows": [
        [
         "count",
         "60.0",
         "60.0",
         "60.0",
         "60.0",
         "60.0",
         "60.0",
         "60.0",
         "60.0",
         "60.0"
        ],
        [
         "mean",
         "0.00789562086",
         "1.6538282131666666",
         "0.2555693056837",
         "0.0",
         "0.0",
         "0.04650166806666667",
         "10.828591306833333",
         "44.22642873333334",
         "102.32601614000001"
        ],
        [
         "std",
         "0.030943382496969707",
         "0.7502756125258024",
         "0.589168375102809",
         "0.0",
         "0.0",
         "0.06274612245605382",
         "19.266115398838856",
         "41.810157979220314",
         "102.7928611720344"
        ],
        [
         "min",
         "0.0",
         "0.0",
         "0.0",
         "0.0",
         "0.0",
         "0.0",
         "0.0",
         "0.0",
         "0.0"
        ],
        [
         "25%",
         "0.0",
         "1.341666625",
         "0.0",
         "0.0",
         "0.0",
         "0.0",
         "1.0724547",
         "17.4387055",
         "11.68474925"
        ],
        [
         "50%",
         "0.0",
         "1.8867186999999999",
         "0.0",
         "0.0",
         "0.0",
         "0.0",
         "1.64918635",
         "30.855157499999997",
         "64.204529"
        ],
        [
         "75%",
         "0.01249171625",
         "2.1673506",
         "0.07826107",
         "0.0",
         "0.0",
         "0.1009140625",
         "10.716852",
         "47.3620815",
         "188.7348625"
        ],
        [
         "max",
         "0.23703243",
         "2.743094",
         "3.0936098",
         "0.0",
         "0.0",
         "0.21687499",
         "89.218735",
         "166.14375",
         "309.3438"
        ]
       ],
       "shape": {
        "columns": 9,
        "rows": 8
       }
      },
      "text/html": [
       "<div>\n",
       "<style scoped>\n",
       "    .dataframe tbody tr th:only-of-type {\n",
       "        vertical-align: middle;\n",
       "    }\n",
       "\n",
       "    .dataframe tbody tr th {\n",
       "        vertical-align: top;\n",
       "    }\n",
       "\n",
       "    .dataframe thead th {\n",
       "        text-align: right;\n",
       "    }\n",
       "</style>\n",
       "<table border=\"1\" class=\"dataframe\">\n",
       "  <thead>\n",
       "    <tr style=\"text-align: right;\">\n",
       "      <th></th>\n",
       "      <th>Wind consumption - TWh</th>\n",
       "      <th>Hydro consumption - TWh</th>\n",
       "      <th>Solar consumption - TWh</th>\n",
       "      <th>Nuclear consumption - TWh</th>\n",
       "      <th>Biofuels consumption - TWh</th>\n",
       "      <th>Other renewables (including geothermal and biomass) - TWh</th>\n",
       "      <th>Coal consumption - TWh</th>\n",
       "      <th>Oil consumption - TWh</th>\n",
       "      <th>Gas consumption - TWh</th>\n",
       "    </tr>\n",
       "  </thead>\n",
       "  <tbody>\n",
       "    <tr>\n",
       "      <th>count</th>\n",
       "      <td>60.000000</td>\n",
       "      <td>60.000000</td>\n",
       "      <td>60.000000</td>\n",
       "      <td>60.0</td>\n",
       "      <td>60.0</td>\n",
       "      <td>60.000000</td>\n",
       "      <td>60.000000</td>\n",
       "      <td>60.000000</td>\n",
       "      <td>60.000000</td>\n",
       "    </tr>\n",
       "    <tr>\n",
       "      <th>mean</th>\n",
       "      <td>0.007896</td>\n",
       "      <td>1.653828</td>\n",
       "      <td>0.255569</td>\n",
       "      <td>0.0</td>\n",
       "      <td>0.0</td>\n",
       "      <td>0.046502</td>\n",
       "      <td>10.828591</td>\n",
       "      <td>44.226429</td>\n",
       "      <td>102.326016</td>\n",
       "    </tr>\n",
       "    <tr>\n",
       "      <th>std</th>\n",
       "      <td>0.030943</td>\n",
       "      <td>0.750276</td>\n",
       "      <td>0.589168</td>\n",
       "      <td>0.0</td>\n",
       "      <td>0.0</td>\n",
       "      <td>0.062746</td>\n",
       "      <td>19.266115</td>\n",
       "      <td>41.810158</td>\n",
       "      <td>102.792861</td>\n",
       "    </tr>\n",
       "    <tr>\n",
       "      <th>min</th>\n",
       "      <td>0.000000</td>\n",
       "      <td>0.000000</td>\n",
       "      <td>0.000000</td>\n",
       "      <td>0.0</td>\n",
       "      <td>0.0</td>\n",
       "      <td>0.000000</td>\n",
       "      <td>0.000000</td>\n",
       "      <td>0.000000</td>\n",
       "      <td>0.000000</td>\n",
       "    </tr>\n",
       "    <tr>\n",
       "      <th>25%</th>\n",
       "      <td>0.000000</td>\n",
       "      <td>1.341667</td>\n",
       "      <td>0.000000</td>\n",
       "      <td>0.0</td>\n",
       "      <td>0.0</td>\n",
       "      <td>0.000000</td>\n",
       "      <td>1.072455</td>\n",
       "      <td>17.438706</td>\n",
       "      <td>11.684749</td>\n",
       "    </tr>\n",
       "    <tr>\n",
       "      <th>50%</th>\n",
       "      <td>0.000000</td>\n",
       "      <td>1.886719</td>\n",
       "      <td>0.000000</td>\n",
       "      <td>0.0</td>\n",
       "      <td>0.0</td>\n",
       "      <td>0.000000</td>\n",
       "      <td>1.649186</td>\n",
       "      <td>30.855157</td>\n",
       "      <td>64.204529</td>\n",
       "    </tr>\n",
       "    <tr>\n",
       "      <th>75%</th>\n",
       "      <td>0.012492</td>\n",
       "      <td>2.167351</td>\n",
       "      <td>0.078261</td>\n",
       "      <td>0.0</td>\n",
       "      <td>0.0</td>\n",
       "      <td>0.100914</td>\n",
       "      <td>10.716852</td>\n",
       "      <td>47.362082</td>\n",
       "      <td>188.734862</td>\n",
       "    </tr>\n",
       "    <tr>\n",
       "      <th>max</th>\n",
       "      <td>0.237032</td>\n",
       "      <td>2.743094</td>\n",
       "      <td>3.093610</td>\n",
       "      <td>0.0</td>\n",
       "      <td>0.0</td>\n",
       "      <td>0.216875</td>\n",
       "      <td>89.218735</td>\n",
       "      <td>166.143750</td>\n",
       "      <td>309.343800</td>\n",
       "    </tr>\n",
       "  </tbody>\n",
       "</table>\n",
       "</div>"
      ],
      "text/plain": [
       "       Wind consumption - TWh  Hydro consumption - TWh  \\\n",
       "count               60.000000                60.000000   \n",
       "mean                 0.007896                 1.653828   \n",
       "std                  0.030943                 0.750276   \n",
       "min                  0.000000                 0.000000   \n",
       "25%                  0.000000                 1.341667   \n",
       "50%                  0.000000                 1.886719   \n",
       "75%                  0.012492                 2.167351   \n",
       "max                  0.237032                 2.743094   \n",
       "\n",
       "       Solar consumption - TWh  Nuclear consumption - TWh  \\\n",
       "count                60.000000                       60.0   \n",
       "mean                  0.255569                        0.0   \n",
       "std                   0.589168                        0.0   \n",
       "min                   0.000000                        0.0   \n",
       "25%                   0.000000                        0.0   \n",
       "50%                   0.000000                        0.0   \n",
       "75%                   0.078261                        0.0   \n",
       "max                   3.093610                        0.0   \n",
       "\n",
       "       Biofuels consumption - TWh  \\\n",
       "count                        60.0   \n",
       "mean                          0.0   \n",
       "std                           0.0   \n",
       "min                           0.0   \n",
       "25%                           0.0   \n",
       "50%                           0.0   \n",
       "75%                           0.0   \n",
       "max                           0.0   \n",
       "\n",
       "       Other renewables (including geothermal and biomass) - TWh  \\\n",
       "count                                          60.000000           \n",
       "mean                                            0.046502           \n",
       "std                                             0.062746           \n",
       "min                                             0.000000           \n",
       "25%                                             0.000000           \n",
       "50%                                             0.000000           \n",
       "75%                                             0.100914           \n",
       "max                                             0.216875           \n",
       "\n",
       "       Coal consumption - TWh  Oil consumption - TWh  Gas consumption - TWh  \n",
       "count               60.000000              60.000000              60.000000  \n",
       "mean                10.828591              44.226429             102.326016  \n",
       "std                 19.266115              41.810158             102.792861  \n",
       "min                  0.000000               0.000000               0.000000  \n",
       "25%                  1.072455              17.438706              11.684749  \n",
       "50%                  1.649186              30.855157              64.204529  \n",
       "75%                 10.716852              47.362082             188.734862  \n",
       "max                 89.218735             166.143750             309.343800  "
      ]
     },
     "execution_count": 5,
     "metadata": {},
     "output_type": "execute_result"
    }
   ],
   "source": [
    "# understand how to use the .mean() function which is a method of the dataframe object\n",
    "bangladesh_df.describe()"
   ]
  },
  {
   "cell_type": "code",
   "execution_count": 6,
   "metadata": {},
   "outputs": [
    {
     "data": {
      "application/vnd.microsoft.datawrangler.viewer.v0+json": {
       "columns": [
        {
         "name": "Year",
         "rawType": "int64",
         "type": "integer"
        },
        {
         "name": "0",
         "rawType": "float64",
         "type": "float"
        }
       ],
       "ref": "6ec7e455-88f6-4dbd-9fbc-8233c10ebfb5",
       "rows": [
        [
         "1965",
         "0.0"
        ],
        [
         "1966",
         "0.0"
        ],
        [
         "1967",
         "0.0"
        ],
        [
         "1968",
         "0.0"
        ],
        [
         "1969",
         "0.0"
        ],
        [
         "1970",
         "0.0"
        ],
        [
         "1971",
         "1.4861685411111112"
        ],
        [
         "1972",
         "1.684360041111111"
        ],
        [
         "1973",
         "2.1578816"
        ],
        [
         "1974",
         "2.300333672222222"
        ],
        [
         "1975",
         "2.3614415444444443"
        ],
        [
         "1976",
         "2.7560535666666666"
        ],
        [
         "1977",
         "2.8177661111111107"
        ],
        [
         "1978",
         "2.992582588888889"
        ],
        [
         "1979",
         "3.298855611111111"
        ],
        [
         "1980",
         "3.8495444555555554"
        ],
        [
         "1981",
         "4.080853988888888"
        ],
        [
         "1982",
         "4.505290811111111"
        ],
        [
         "1983",
         "4.452395144444444"
        ],
        [
         "1984",
         "4.80908554"
        ],
        [
         "1985",
         "5.349074093333333"
        ],
        [
         "1986",
         "5.828436693333334"
        ],
        [
         "1987",
         "6.432432733333333"
        ],
        [
         "1988",
         "7.161711566666666"
        ],
        [
         "1989",
         "7.716596822222221"
        ],
        [
         "1990",
         "8.188664155555555"
        ],
        [
         "1991",
         "7.900492355555555"
        ],
        [
         "1992",
         "8.61865554111111"
        ],
        [
         "1993",
         "9.480754583333333"
        ],
        [
         "1994",
         "10.059809197777778"
        ],
        [
         "1995",
         "11.893550855555555"
        ],
        [
         "1996",
         "12.452225744444444"
        ],
        [
         "1997",
         "13.084661733333332"
        ],
        [
         "1998",
         "13.933796122222223"
        ],
        [
         "1999",
         "14.092897718888887"
        ],
        [
         "2000",
         "15.124192168641779"
        ],
        [
         "2001",
         "17.27940569711511"
        ],
        [
         "2002",
         "17.345091312434445"
        ],
        [
         "2003",
         "18.330284536255554"
        ],
        [
         "2004",
         "19.485001443555557"
        ],
        [
         "2005",
         "21.123649412333332"
        ],
        [
         "2006",
         "22.86126552361111"
        ],
        [
         "2007",
         "23.513609392111114"
        ],
        [
         "2008",
         "24.75347919384444"
        ],
        [
         "2009",
         "27.251863743"
        ],
        [
         "2010",
         "27.882174572222223"
        ],
        [
         "2011",
         "30.16207178288889"
        ],
        [
         "2012",
         "32.76349674155555"
        ],
        [
         "2013",
         "34.04648647716667"
        ],
        [
         "2014",
         "35.38035325577778"
        ]
       ],
       "shape": {
        "columns": 1,
        "rows": 60
       }
      },
      "text/plain": [
       "Year\n",
       "1965     0.000000\n",
       "1966     0.000000\n",
       "1967     0.000000\n",
       "1968     0.000000\n",
       "1969     0.000000\n",
       "1970     0.000000\n",
       "1971     1.486169\n",
       "1972     1.684360\n",
       "1973     2.157882\n",
       "1974     2.300334\n",
       "1975     2.361442\n",
       "1976     2.756054\n",
       "1977     2.817766\n",
       "1978     2.992583\n",
       "1979     3.298856\n",
       "1980     3.849544\n",
       "1981     4.080854\n",
       "1982     4.505291\n",
       "1983     4.452395\n",
       "1984     4.809086\n",
       "1985     5.349074\n",
       "1986     5.828437\n",
       "1987     6.432433\n",
       "1988     7.161712\n",
       "1989     7.716597\n",
       "1990     8.188664\n",
       "1991     7.900492\n",
       "1992     8.618656\n",
       "1993     9.480755\n",
       "1994    10.059809\n",
       "1995    11.893551\n",
       "1996    12.452226\n",
       "1997    13.084662\n",
       "1998    13.933796\n",
       "1999    14.092898\n",
       "2000    15.124192\n",
       "2001    17.279406\n",
       "2002    17.345091\n",
       "2003    18.330285\n",
       "2004    19.485001\n",
       "2005    21.123649\n",
       "2006    22.861266\n",
       "2007    23.513609\n",
       "2008    24.753479\n",
       "2009    27.251864\n",
       "2010    27.882175\n",
       "2011    30.162072\n",
       "2012    32.763497\n",
       "2013    34.046486\n",
       "2014    35.380353\n",
       "2015    42.767902\n",
       "2016    42.946338\n",
       "2017    44.749830\n",
       "2018    47.788711\n",
       "2019    53.596272\n",
       "2020    50.806867\n",
       "2021    54.696509\n",
       "2022    56.884304\n",
       "2023    56.266720\n",
       "2024    58.746620\n",
       "dtype: float64"
      ]
     },
     "execution_count": 6,
     "metadata": {},
     "output_type": "execute_result"
    }
   ],
   "source": [
    "# The mean cosumption for Hydro, oil, coal, gas\n",
    "bangladesh_df.mean(axis = 1)"
   ]
  },
  {
   "cell_type": "code",
   "execution_count": 7,
   "metadata": {},
   "outputs": [
    {
     "data": {
      "text/plain": [
       "<Axes: xlabel='Year', ylabel='Consumption'>"
      ]
     },
     "execution_count": 7,
     "metadata": {},
     "output_type": "execute_result"
    },
    {
     "data": {
      "image/png": "[encoded data removed]",
      "text/plain": [
       "<Figure size 640x480 with 1 Axes>"
      ]
     },
     "metadata": {},
     "output_type": "display_data"
    }
   ],
   "source": [
    "# another useful built-in method for quick data exploration is the .plot() method\n",
    "bangladesh_df[[\"Hydro consumption - TWh\", \"Coal consumption - TWh\", \"Gas consumption - TWh\", \"Oil consumption - TWh\"]].plot(\n",
    "    ylabel = \"Consumption\")"
   ]
  },
  {
   "cell_type": "markdown",
   "metadata": {},
   "source": [
    "### There are a few ways of importing data into Python and Pandas makes it very convenient.  \n",
    "  \n",
    "Have a look at the code below to see two examples  \n",
    "  \n",
    "`import pandas as pd\n",
    "df = pd.read_csv('filename.txt', sep=\" \", header=None, names=[\"a\",\"b\",\"c\"])`\n",
    "  \n",
    "Or  \n",
    "  \n",
    "`import pandas as pd \n",
    "df = pd.read_csv('file_location\\filename.txt', delimiter = \"\\t\")  # Can input a URL as well`\n",
    "\n"
   ]
  },
  {
   "cell_type": "markdown",
   "metadata": {},
   "source": [
    "#### Go ahead and import the data\n",
    "\n",
    "The code below will use a URL to import data on the power plants of the USA, using the simpliest form of input arguements to the Pandas `read_csv` function. Note how we imported Numpy as `np` and not Pandas as `pd`. Dataframes are conventionally called `df` in Python but you can rename to another logical variable name. \n"
   ]
  },
  {
   "cell_type": "code",
   "execution_count": 8,
   "metadata": {
    "code_folding": []
   },
   "outputs": [],
   "source": [
    "# The following implies an internet connection of course\n",
    "import pandas as pd\n",
    "usa_gen = pd.read_csv('https://raw.githubusercontent.com/wri/global-power-plant-database/master/source_databases_csv/database_USA.csv')\n"
   ]
  },
  {
   "cell_type": "markdown",
   "metadata": {},
   "source": [
    "#### Let's have a look at the data\n",
    "\n",
    "The `head` function is an easy way to inspect your dataset. The default number of rows to show is 5. Let's explore the dataset a bit. Use `df.head(20)` to see more rows etc. \n",
    "  \n",
    "  "
   ]
  },
  {
   "cell_type": "code",
   "execution_count": 9,
   "metadata": {},
   "outputs": [
    {
     "data": {
      "application/vnd.microsoft.datawrangler.viewer.v0+json": {
       "columns": [
        {
         "name": "index",
         "rawType": "int64",
         "type": "integer"
        },
        {
         "name": "country",
         "rawType": "object",
         "type": "string"
        },
        {
         "name": "country_long",
         "rawType": "object",
         "type": "string"
        },
        {
         "name": "name",
         "rawType": "object",
         "type": "string"
        },
        {
         "name": "gppd_idnr",
         "rawType": "object",
         "type": "string"
        },
        {
         "name": "capacity_mw",
         "rawType": "float64",
         "type": "float"
        },
        {
         "name": "latitude",
         "rawType": "float64",
         "type": "float"
        },
        {
         "name": "longitude",
         "rawType": "float64",
         "type": "float"
        },
        {
         "name": "primary_fuel",
         "rawType": "object",
         "type": "unknown"
        },
        {
         "name": "other_fuel1",
         "rawType": "object",
         "type": "unknown"
        },
        {
         "name": "other_fuel2",
         "rawType": "object",
         "type": "unknown"
        },
        {
         "name": "other_fuel3",
         "rawType": "object",
         "type": "unknown"
        },
        {
         "name": "commissioning_year",
         "rawType": "float64",
         "type": "float"
        },
        {
         "name": "owner",
         "rawType": "object",
         "type": "string"
        },
        {
         "name": "source",
         "rawType": "object",
         "type": "string"
        },
        {
         "name": "url",
         "rawType": "object",
         "type": "string"
        },
        {
         "name": "geolocation_source",
         "rawType": "object",
         "type": "string"
        },
        {
         "name": "wepp_id",
         "rawType": "float64",
         "type": "float"
        },
        {
         "name": "year_of_capacity_data",
         "rawType": "float64",
         "type": "float"
        },
        {
         "name": "generation_gwh_2013",
         "rawType": "float64",
         "type": "float"
        },
        {
         "name": "generation_gwh_2014",
         "rawType": "float64",
         "type": "float"
        },
        {
         "name": "generation_gwh_2015",
         "rawType": "float64",
         "type": "float"
        },
        {
         "name": "generation_gwh_2016",
         "rawType": "float64",
         "type": "float"
        },
        {
         "name": "generation_gwh_2017",
         "rawType": "float64",
         "type": "float"
        },
        {
         "name": "generation_gwh_2018",
         "rawType": "float64",
         "type": "float"
        },
        {
         "name": "generation_gwh_2019",
         "rawType": "float64",
         "type": "float"
        },
        {
         "name": "generation_data_source",
         "rawType": "object",
         "type": "unknown"
        },
        {
         "name": "estimated_generation_gwh",
         "rawType": "float64",
         "type": "float"
        }
       ],
       "ref": "097babed-b358-4a27-a579-ca8cb589a603",
       "rows": [
        [
         "0",
         "USA",
         "United States of America",
         "10 Briggs Solar NG  LLC (East)",
         "USA0062781",
         "0.0",
         "41.6327",
         "-71.4963",
         null,
         null,
         null,
         null,
         null,
         "10 Briggs Solar NG  LLC",
         "U.S. Energy Information Administration",
         "http://www.eia.gov/electricity/data/browser/",
         "U.S. Energy Information Administration",
         null,
         "2019.0",
         null,
         null,
         null,
         null,
         null,
         null,
         null,
         null,
         null
        ],
        [
         "1",
         "USA",
         "United States of America",
         "100 Brook Hill Drive Solar",
         "USA0063292",
         "2.0",
         "41.093",
         "-73.9828",
         "Solar",
         null,
         null,
         null,
         "2016.0",
         "Diamond Properties",
         "U.S. Energy Information Administration",
         "http://www.eia.gov/electricity/data/browser/",
         "U.S. Energy Information Administration",
         null,
         "2019.0",
         null,
         null,
         null,
         null,
         null,
         null,
         "2.467",
         "U.S. Energy Information Administration",
         null
        ],
        [
         "2",
         "USA",
         "United States of America",
         "1001 Ebenezer Church Solar",
         "USA0063444",
         "0.0",
         "36.2838",
         "-80.8434",
         null,
         null,
         null,
         null,
         null,
         "1001 Ebenezer Church Solar  LLC",
         "U.S. Energy Information Administration",
         "http://www.eia.gov/electricity/data/browser/",
         "U.S. Energy Information Administration",
         null,
         "2019.0",
         null,
         null,
         null,
         null,
         null,
         null,
         null,
         null,
         null
        ],
        [
         "3",
         "USA",
         "United States of America",
         "1008 Matthews Solar",
         "USA0063447",
         "0.0",
         "36.2167",
         "-80.5525",
         null,
         null,
         null,
         null,
         null,
         "1008 Matthews Solar  LLC",
         "U.S. Energy Information Administration",
         "http://www.eia.gov/electricity/data/browser/",
         "U.S. Energy Information Administration",
         null,
         "2019.0",
         null,
         null,
         null,
         null,
         null,
         null,
         null,
         null,
         null
        ],
        [
         "4",
         "USA",
         "United States of America",
         "1009 Yadkin Solar",
         "USA0063445",
         "0.0",
         "36.1475",
         "-80.6561",
         null,
         null,
         null,
         null,
         null,
         "1009 Yadkin Solar  LLC",
         "U.S. Energy Information Administration",
         "http://www.eia.gov/electricity/data/browser/",
         "U.S. Energy Information Administration",
         null,
         "2019.0",
         null,
         null,
         null,
         null,
         null,
         null,
         null,
         null,
         null
        ],
        [
         "5",
         "USA",
         "United States of America",
         "1025 Traveller Solar  LLC",
         "USA0062660",
         "5.0",
         "35.4273",
         "-79.1263",
         "Solar",
         null,
         null,
         null,
         "2019.0",
         "CI-II Mitchell Holding LLC",
         "U.S. Energy Information Administration",
         "http://www.eia.gov/electricity/data/browser/",
         "U.S. Energy Information Administration",
         null,
         "2019.0",
         null,
         null,
         null,
         null,
         null,
         null,
         "1.332",
         "U.S. Energy Information Administration",
         null
        ],
        [
         "6",
         "USA",
         "United States of America",
         "1045 Tomlin Mill Solar",
         "USA0063448",
         "0.0",
         "35.9162",
         "-80.8355",
         null,
         null,
         null,
         null,
         null,
         "1045 Tomlin Mill Solar  LLC",
         "U.S. Energy Information Administration",
         "http://www.eia.gov/electricity/data/browser/",
         "U.S. Energy Information Administration",
         null,
         "2019.0",
         null,
         null,
         null,
         null,
         null,
         null,
         null,
         null,
         null
        ],
        [
         "7",
         "USA",
         "United States of America",
         "1047 Little Mountain Solar  LLC",
         "USA0062661",
         "3.0",
         "36.1971",
         "-80.8067",
         "Solar",
         null,
         null,
         null,
         "2019.0",
         "CI-II Mitchell Holding LLC",
         "U.S. Energy Information Administration",
         "http://www.eia.gov/electricity/data/browser/",
         "U.S. Energy Information Administration",
         null,
         "2019.0",
         null,
         null,
         null,
         null,
         null,
         null,
         "1.417",
         "U.S. Energy Information Administration",
         null
        ],
        [
         "8",
         "USA",
         "United States of America",
         "1073 Onslow Solar",
         "USA0063446",
         "0.0",
         "34.7736",
         "-77.1858",
         null,
         null,
         null,
         null,
         null,
         "1073 Onslow Solar  LLC",
         "U.S. Energy Information Administration",
         "http://www.eia.gov/electricity/data/browser/",
         "U.S. Energy Information Administration",
         null,
         "2019.0",
         null,
         null,
         null,
         null,
         null,
         null,
         null,
         null,
         null
        ],
        [
         "9",
         "USA",
         "United States of America",
         "12 Applegate Solar LLC",
         "USA0059371",
         "1.9",
         "40.2003",
         "-74.5761",
         "Solar",
         null,
         null,
         null,
         "2012.0",
         "G&S Solar Installers LLC",
         "U.S. Energy Information Administration",
         "http://www.eia.gov/electricity/data/browser/",
         "U.S. Energy Information Administration",
         null,
         "2019.0",
         "2.41461",
         "2.35",
         "2.43",
         "2.492",
         "2.276",
         "2.207",
         "2.349",
         "U.S. Energy Information Administration",
         null
        ]
       ],
       "shape": {
        "columns": 27,
        "rows": 10
       }
      },
      "text/html": [
       "<div>\n",
       "<style scoped>\n",
       "    .dataframe tbody tr th:only-of-type {\n",
       "        vertical-align: middle;\n",
       "    }\n",
       "\n",
       "    .dataframe tbody tr th {\n",
       "        vertical-align: top;\n",
       "    }\n",
       "\n",
       "    .dataframe thead th {\n",
       "        text-align: right;\n",
       "    }\n",
       "</style>\n",
       "<table border=\"1\" class=\"dataframe\">\n",
       "  <thead>\n",
       "    <tr style=\"text-align: right;\">\n",
       "      <th></th>\n",
       "      <th>country</th>\n",
       "      <th>country_long</th>\n",
       "      <th>name</th>\n",
       "      <th>gppd_idnr</th>\n",
       "      <th>capacity_mw</th>\n",
       "      <th>latitude</th>\n",
       "      <th>longitude</th>\n",
       "      <th>primary_fuel</th>\n",
       "      <th>other_fuel1</th>\n",
       "      <th>other_fuel2</th>\n",
       "      <th>...</th>\n",
       "      <th>year_of_capacity_data</th>\n",
       "      <th>generation_gwh_2013</th>\n",
       "      <th>generation_gwh_2014</th>\n",
       "      <th>generation_gwh_2015</th>\n",
       "      <th>generation_gwh_2016</th>\n",
       "      <th>generation_gwh_2017</th>\n",
       "      <th>generation_gwh_2018</th>\n",
       "      <th>generation_gwh_2019</th>\n",
       "      <th>generation_data_source</th>\n",
       "      <th>estimated_generation_gwh</th>\n",
       "    </tr>\n",
       "  </thead>\n",
       "  <tbody>\n",
       "    <tr>\n",
       "      <th>0</th>\n",
       "      <td>USA</td>\n",
       "      <td>United States of America</td>\n",
       "      <td>10 Briggs Solar NG  LLC (East)</td>\n",
       "      <td>USA0062781</td>\n",
       "      <td>0.0</td>\n",
       "      <td>41.6327</td>\n",
       "      <td>-71.4963</td>\n",
       "      <td>NaN</td>\n",
       "      <td>NaN</td>\n",
       "      <td>NaN</td>\n",
       "      <td>...</td>\n",
       "      <td>2019.0</td>\n",
       "      <td>NaN</td>\n",
       "      <td>NaN</td>\n",
       "      <td>NaN</td>\n",
       "      <td>NaN</td>\n",
       "      <td>NaN</td>\n",
       "      <td>NaN</td>\n",
       "      <td>NaN</td>\n",
       "      <td>NaN</td>\n",
       "      <td>NaN</td>\n",
       "    </tr>\n",
       "    <tr>\n",
       "      <th>1</th>\n",
       "      <td>USA</td>\n",
       "      <td>United States of America</td>\n",
       "      <td>100 Brook Hill Drive Solar</td>\n",
       "      <td>USA0063292</td>\n",
       "      <td>2.0</td>\n",
       "      <td>41.0930</td>\n",
       "      <td>-73.9828</td>\n",
       "      <td>Solar</td>\n",
       "      <td>NaN</td>\n",
       "      <td>NaN</td>\n",
       "      <td>...</td>\n",
       "      <td>2019.0</td>\n",
       "      <td>NaN</td>\n",
       "      <td>NaN</td>\n",
       "      <td>NaN</td>\n",
       "      <td>NaN</td>\n",
       "      <td>NaN</td>\n",
       "      <td>NaN</td>\n",
       "      <td>2.467</td>\n",
       "      <td>U.S. Energy Information Administration</td>\n",
       "      <td>NaN</td>\n",
       "    </tr>\n",
       "    <tr>\n",
       "      <th>2</th>\n",
       "      <td>USA</td>\n",
       "      <td>United States of America</td>\n",
       "      <td>1001 Ebenezer Church Solar</td>\n",
       "      <td>USA0063444</td>\n",
       "      <td>0.0</td>\n",
       "      <td>36.2838</td>\n",
       "      <td>-80.8434</td>\n",
       "      <td>NaN</td>\n",
       "      <td>NaN</td>\n",
       "      <td>NaN</td>\n",
       "      <td>...</td>\n",
       "      <td>2019.0</td>\n",
       "      <td>NaN</td>\n",
       "      <td>NaN</td>\n",
       "      <td>NaN</td>\n",
       "      <td>NaN</td>\n",
       "      <td>NaN</td>\n",
       "      <td>NaN</td>\n",
       "      <td>NaN</td>\n",
       "      <td>NaN</td>\n",
       "      <td>NaN</td>\n",
       "    </tr>\n",
       "    <tr>\n",
       "      <th>3</th>\n",
       "      <td>USA</td>\n",
       "      <td>United States of America</td>\n",
       "      <td>1008 Matthews Solar</td>\n",
       "      <td>USA0063447</td>\n",
       "      <td>0.0</td>\n",
       "      <td>36.2167</td>\n",
       "      <td>-80.5525</td>\n",
       "      <td>NaN</td>\n",
       "      <td>NaN</td>\n",
       "      <td>NaN</td>\n",
       "      <td>...</td>\n",
       "      <td>2019.0</td>\n",
       "      <td>NaN</td>\n",
       "      <td>NaN</td>\n",
       "      <td>NaN</td>\n",
       "      <td>NaN</td>\n",
       "      <td>NaN</td>\n",
       "      <td>NaN</td>\n",
       "      <td>NaN</td>\n",
       "      <td>NaN</td>\n",
       "      <td>NaN</td>\n",
       "    </tr>\n",
       "    <tr>\n",
       "      <th>4</th>\n",
       "      <td>USA</td>\n",
       "      <td>United States of America</td>\n",
       "      <td>1009 Yadkin Solar</td>\n",
       "      <td>USA0063445</td>\n",
       "      <td>0.0</td>\n",
       "      <td>36.1475</td>\n",
       "      <td>-80.6561</td>\n",
       "      <td>NaN</td>\n",
       "      <td>NaN</td>\n",
       "      <td>NaN</td>\n",
       "      <td>...</td>\n",
       "      <td>2019.0</td>\n",
       "      <td>NaN</td>\n",
       "      <td>NaN</td>\n",
       "      <td>NaN</td>\n",
       "      <td>NaN</td>\n",
       "      <td>NaN</td>\n",
       "      <td>NaN</td>\n",
       "      <td>NaN</td>\n",
       "      <td>NaN</td>\n",
       "      <td>NaN</td>\n",
       "    </tr>\n",
       "    <tr>\n",
       "      <th>5</th>\n",
       "      <td>USA</td>\n",
       "      <td>United States of America</td>\n",
       "      <td>1025 Traveller Solar  LLC</td>\n",
       "      <td>USA0062660</td>\n",
       "      <td>5.0</td>\n",
       "      <td>35.4273</td>\n",
       "      <td>-79.1263</td>\n",
       "      <td>Solar</td>\n",
       "      <td>NaN</td>\n",
       "      <td>NaN</td>\n",
       "      <td>...</td>\n",
       "      <td>2019.0</td>\n",
       "      <td>NaN</td>\n",
       "      <td>NaN</td>\n",
       "      <td>NaN</td>\n",
       "      <td>NaN</td>\n",
       "      <td>NaN</td>\n",
       "      <td>NaN</td>\n",
       "      <td>1.332</td>\n",
       "      <td>U.S. Energy Information Administration</td>\n",
       "      <td>NaN</td>\n",
       "    </tr>\n",
       "    <tr>\n",
       "      <th>6</th>\n",
       "      <td>USA</td>\n",
       "      <td>United States of America</td>\n",
       "      <td>1045 Tomlin Mill Solar</td>\n",
       "      <td>USA0063448</td>\n",
       "      <td>0.0</td>\n",
       "      <td>35.9162</td>\n",
       "      <td>-80.8355</td>\n",
       "      <td>NaN</td>\n",
       "      <td>NaN</td>\n",
       "      <td>NaN</td>\n",
       "      <td>...</td>\n",
       "      <td>2019.0</td>\n",
       "      <td>NaN</td>\n",
       "      <td>NaN</td>\n",
       "      <td>NaN</td>\n",
       "      <td>NaN</td>\n",
       "      <td>NaN</td>\n",
       "      <td>NaN</td>\n",
       "      <td>NaN</td>\n",
       "      <td>NaN</td>\n",
       "      <td>NaN</td>\n",
       "    </tr>\n",
       "    <tr>\n",
       "      <th>7</th>\n",
       "      <td>USA</td>\n",
       "      <td>United States of America</td>\n",
       "      <td>1047 Little Mountain Solar  LLC</td>\n",
       "      <td>USA0062661</td>\n",
       "      <td>3.0</td>\n",
       "      <td>36.1971</td>\n",
       "      <td>-80.8067</td>\n",
       "      <td>Solar</td>\n",
       "      <td>NaN</td>\n",
       "      <td>NaN</td>\n",
       "      <td>...</td>\n",
       "      <td>2019.0</td>\n",
       "      <td>NaN</td>\n",
       "      <td>NaN</td>\n",
       "      <td>NaN</td>\n",
       "      <td>NaN</td>\n",
       "      <td>NaN</td>\n",
       "      <td>NaN</td>\n",
       "      <td>1.417</td>\n",
       "      <td>U.S. Energy Information Administration</td>\n",
       "      <td>NaN</td>\n",
       "    </tr>\n",
       "    <tr>\n",
       "      <th>8</th>\n",
       "      <td>USA</td>\n",
       "      <td>United States of America</td>\n",
       "      <td>1073 Onslow Solar</td>\n",
       "      <td>USA0063446</td>\n",
       "      <td>0.0</td>\n",
       "      <td>34.7736</td>\n",
       "      <td>-77.1858</td>\n",
       "      <td>NaN</td>\n",
       "      <td>NaN</td>\n",
       "      <td>NaN</td>\n",
       "      <td>...</td>\n",
       "      <td>2019.0</td>\n",
       "      <td>NaN</td>\n",
       "      <td>NaN</td>\n",
       "      <td>NaN</td>\n",
       "      <td>NaN</td>\n",
       "      <td>NaN</td>\n",
       "      <td>NaN</td>\n",
       "      <td>NaN</td>\n",
       "      <td>NaN</td>\n",
       "      <td>NaN</td>\n",
       "    </tr>\n",
       "    <tr>\n",
       "      <th>9</th>\n",
       "      <td>USA</td>\n",
       "      <td>United States of America</td>\n",
       "      <td>12 Applegate Solar LLC</td>\n",
       "      <td>USA0059371</td>\n",
       "      <td>1.9</td>\n",
       "      <td>40.2003</td>\n",
       "      <td>-74.5761</td>\n",
       "      <td>Solar</td>\n",
       "      <td>NaN</td>\n",
       "      <td>NaN</td>\n",
       "      <td>...</td>\n",
       "      <td>2019.0</td>\n",
       "      <td>2.41461</td>\n",
       "      <td>2.35</td>\n",
       "      <td>2.43</td>\n",
       "      <td>2.492</td>\n",
       "      <td>2.276</td>\n",
       "      <td>2.207</td>\n",
       "      <td>2.349</td>\n",
       "      <td>U.S. Energy Information Administration</td>\n",
       "      <td>NaN</td>\n",
       "    </tr>\n",
       "  </tbody>\n",
       "</table>\n",
       "<p>10 rows × 27 columns</p>\n",
       "</div>"
      ],
      "text/plain": [
       "  country              country_long                             name  \\\n",
       "0     USA  United States of America   10 Briggs Solar NG  LLC (East)   \n",
       "1     USA  United States of America       100 Brook Hill Drive Solar   \n",
       "2     USA  United States of America       1001 Ebenezer Church Solar   \n",
       "3     USA  United States of America              1008 Matthews Solar   \n",
       "4     USA  United States of America                1009 Yadkin Solar   \n",
       "5     USA  United States of America        1025 Traveller Solar  LLC   \n",
       "6     USA  United States of America           1045 Tomlin Mill Solar   \n",
       "7     USA  United States of America  1047 Little Mountain Solar  LLC   \n",
       "8     USA  United States of America                1073 Onslow Solar   \n",
       "9     USA  United States of America           12 Applegate Solar LLC   \n",
       "\n",
       "    gppd_idnr  capacity_mw  latitude  longitude primary_fuel other_fuel1  \\\n",
       "0  USA0062781          0.0   41.6327   -71.4963          NaN         NaN   \n",
       "1  USA0063292          2.0   41.0930   -73.9828        Solar         NaN   \n",
       "2  USA0063444          0.0   36.2838   -80.8434          NaN         NaN   \n",
       "3  USA0063447          0.0   36.2167   -80.5525          NaN         NaN   \n",
       "4  USA0063445          0.0   36.1475   -80.6561          NaN         NaN   \n",
       "5  USA0062660          5.0   35.4273   -79.1263        Solar         NaN   \n",
       "6  USA0063448          0.0   35.9162   -80.8355          NaN         NaN   \n",
       "7  USA0062661          3.0   36.1971   -80.8067        Solar         NaN   \n",
       "8  USA0063446          0.0   34.7736   -77.1858          NaN         NaN   \n",
       "9  USA0059371          1.9   40.2003   -74.5761        Solar         NaN   \n",
       "\n",
       "  other_fuel2  ... year_of_capacity_data  generation_gwh_2013  \\\n",
       "0         NaN  ...                2019.0                  NaN   \n",
       "1         NaN  ...                2019.0                  NaN   \n",
       "2         NaN  ...                2019.0                  NaN   \n",
       "3         NaN  ...                2019.0                  NaN   \n",
       "4         NaN  ...                2019.0                  NaN   \n",
       "5         NaN  ...                2019.0                  NaN   \n",
       "6         NaN  ...                2019.0                  NaN   \n",
       "7         NaN  ...                2019.0                  NaN   \n",
       "8         NaN  ...                2019.0                  NaN   \n",
       "9         NaN  ...                2019.0              2.41461   \n",
       "\n",
       "  generation_gwh_2014 generation_gwh_2015 generation_gwh_2016  \\\n",
       "0                 NaN                 NaN                 NaN   \n",
       "1                 NaN                 NaN                 NaN   \n",
       "2                 NaN                 NaN                 NaN   \n",
       "3                 NaN                 NaN                 NaN   \n",
       "4                 NaN                 NaN                 NaN   \n",
       "5                 NaN                 NaN                 NaN   \n",
       "6                 NaN                 NaN                 NaN   \n",
       "7                 NaN                 NaN                 NaN   \n",
       "8                 NaN                 NaN                 NaN   \n",
       "9                2.35                2.43               2.492   \n",
       "\n",
       "  generation_gwh_2017  generation_gwh_2018  generation_gwh_2019  \\\n",
       "0                 NaN                  NaN                  NaN   \n",
       "1                 NaN                  NaN                2.467   \n",
       "2                 NaN                  NaN                  NaN   \n",
       "3                 NaN                  NaN                  NaN   \n",
       "4                 NaN                  NaN                  NaN   \n",
       "5                 NaN                  NaN                1.332   \n",
       "6                 NaN                  NaN                  NaN   \n",
       "7                 NaN                  NaN                1.417   \n",
       "8                 NaN                  NaN                  NaN   \n",
       "9               2.276                2.207                2.349   \n",
       "\n",
       "                   generation_data_source  estimated_generation_gwh  \n",
       "0                                     NaN                       NaN  \n",
       "1  U.S. Energy Information Administration                       NaN  \n",
       "2                                     NaN                       NaN  \n",
       "3                                     NaN                       NaN  \n",
       "4                                     NaN                       NaN  \n",
       "5  U.S. Energy Information Administration                       NaN  \n",
       "6                                     NaN                       NaN  \n",
       "7  U.S. Energy Information Administration                       NaN  \n",
       "8                                     NaN                       NaN  \n",
       "9  U.S. Energy Information Administration                       NaN  \n",
       "\n",
       "[10 rows x 27 columns]"
      ]
     },
     "execution_count": 9,
     "metadata": {},
     "output_type": "execute_result"
    }
   ],
   "source": [
    "usa_gen.head(10)"
   ]
  },
  {
   "cell_type": "markdown",
   "metadata": {},
   "source": [
    "### Indexing with Pandas\n",
    "There are many ways to index"
   ]
  },
  {
   "cell_type": "code",
   "execution_count": 10,
   "metadata": {},
   "outputs": [
    {
     "data": {
      "application/vnd.microsoft.datawrangler.viewer.v0+json": {
       "columns": [
        {
         "name": "index",
         "rawType": "int64",
         "type": "integer"
        },
        {
         "name": "Country",
         "rawType": "object",
         "type": "string"
        }
       ],
       "ref": "189e709a-1d3d-477a-860a-57abdfa5bf95",
       "rows": [
        [
         "0",
         "Namibia"
        ],
        [
         "1",
         "Portugal"
        ],
        [
         "2",
         "Egypt"
        ],
        [
         "3",
         "Haiti"
        ],
        [
         "4",
         "Thailand"
        ],
        [
         "5",
         "Bolivia"
        ],
        [
         "6",
         "Estonia"
        ]
       ],
       "shape": {
        "columns": 1,
        "rows": 7
       }
      },
      "text/plain": [
       "0     Namibia\n",
       "1    Portugal\n",
       "2       Egypt\n",
       "3       Haiti\n",
       "4    Thailand\n",
       "5     Bolivia\n",
       "6     Estonia\n",
       "Name: Country, dtype: object"
      ]
     },
     "execution_count": 10,
     "metadata": {},
     "output_type": "execute_result"
    }
   ],
   "source": [
    "# dot notation\n",
    "df.Country  "
   ]
  },
  {
   "cell_type": "code",
   "execution_count": 11,
   "metadata": {},
   "outputs": [
    {
     "data": {
      "application/vnd.microsoft.datawrangler.viewer.v0+json": {
       "columns": [
        {
         "name": "index",
         "rawType": "int64",
         "type": "integer"
        },
        {
         "name": "Primary Energy Consumption (TWh)",
         "rawType": "int64",
         "type": "integer"
        }
       ],
       "ref": "38122f25-6beb-44e3-9e94-72f100592b2c",
       "rows": [
        [
         "0",
         "22"
        ],
        [
         "1",
         "258"
        ],
        [
         "2",
         "1105"
        ]
       ],
       "shape": {
        "columns": 1,
        "rows": 3
       }
      },
      "text/plain": [
       "0      22\n",
       "1     258\n",
       "2    1105\n",
       "Name: Primary Energy Consumption (TWh), dtype: int64"
      ]
     },
     "execution_count": 11,
     "metadata": {},
     "output_type": "execute_result"
    }
   ],
   "source": [
    "# or using square brackets\n",
    "df[\"Primary Energy Consumption (TWh)\"].head(3)  "
   ]
  },
  {
   "cell_type": "code",
   "execution_count": 12,
   "metadata": {},
   "outputs": [
    {
     "data": {
      "application/vnd.microsoft.datawrangler.viewer.v0+json": {
       "columns": [
        {
         "name": "index",
         "rawType": "int64",
         "type": "integer"
        },
        {
         "name": "Country",
         "rawType": "object",
         "type": "string"
        }
       ],
       "ref": "c9574fe5-8b5b-4d6e-be7a-346fc078559e",
       "rows": [
        [
         "2",
         "Egypt"
        ],
        [
         "3",
         "Haiti"
        ],
        [
         "4",
         "Thailand"
        ]
       ],
       "shape": {
        "columns": 1,
        "rows": 3
       }
      },
      "text/plain": [
       "2       Egypt\n",
       "3       Haiti\n",
       "4    Thailand\n",
       "Name: Country, dtype: object"
      ]
     },
     "execution_count": 12,
     "metadata": {},
     "output_type": "execute_result"
    }
   ],
   "source": [
    "# or using the .loc function\n",
    "df.loc[2:4, \"Country\"]"
   ]
  },
  {
   "cell_type": "code",
   "execution_count": 13,
   "metadata": {},
   "outputs": [
    {
     "data": {
      "application/vnd.microsoft.datawrangler.viewer.v0+json": {
       "columns": [
        {
         "name": "index",
         "rawType": "int64",
         "type": "integer"
        },
        {
         "name": "Country",
         "rawType": "object",
         "type": "string"
        },
        {
         "name": "Primary Energy Consumption (TWh)",
         "rawType": "int64",
         "type": "integer"
        }
       ],
       "ref": "c3a4f2cb-692d-4170-8bfc-3f991983c74e",
       "rows": [
        [
         "1",
         "Portugal",
         "258"
        ],
        [
         "2",
         "Egypt",
         "1105"
        ],
        [
         "4",
         "Thailand",
         "1406"
        ]
       ],
       "shape": {
        "columns": 2,
        "rows": 3
       }
      },
      "text/html": [
       "<div>\n",
       "<style scoped>\n",
       "    .dataframe tbody tr th:only-of-type {\n",
       "        vertical-align: middle;\n",
       "    }\n",
       "\n",
       "    .dataframe tbody tr th {\n",
       "        vertical-align: top;\n",
       "    }\n",
       "\n",
       "    .dataframe thead th {\n",
       "        text-align: right;\n",
       "    }\n",
       "</style>\n",
       "<table border=\"1\" class=\"dataframe\">\n",
       "  <thead>\n",
       "    <tr style=\"text-align: right;\">\n",
       "      <th></th>\n",
       "      <th>Country</th>\n",
       "      <th>Primary Energy Consumption (TWh)</th>\n",
       "    </tr>\n",
       "  </thead>\n",
       "  <tbody>\n",
       "    <tr>\n",
       "      <th>1</th>\n",
       "      <td>Portugal</td>\n",
       "      <td>258</td>\n",
       "    </tr>\n",
       "    <tr>\n",
       "      <th>2</th>\n",
       "      <td>Egypt</td>\n",
       "      <td>1105</td>\n",
       "    </tr>\n",
       "    <tr>\n",
       "      <th>4</th>\n",
       "      <td>Thailand</td>\n",
       "      <td>1406</td>\n",
       "    </tr>\n",
       "  </tbody>\n",
       "</table>\n",
       "</div>"
      ],
      "text/plain": [
       "    Country  Primary Energy Consumption (TWh)\n",
       "1  Portugal                               258\n",
       "2     Egypt                              1105\n",
       "4  Thailand                              1406"
      ]
     },
     "execution_count": 13,
     "metadata": {},
     "output_type": "execute_result"
    }
   ],
   "source": [
    "# you can also use conditional statements to index\n",
    "df[df[\"Primary Energy Consumption (TWh)\"] > 100]"
   ]
  },
  {
   "cell_type": "code",
   "execution_count": 14,
   "metadata": {},
   "outputs": [
    {
     "name": "stdout",
     "output_type": "stream",
     "text": [
      "Namibia\n",
      "Portugal\n",
      "Egypt\n",
      "Haiti\n",
      "Thailand\n",
      "Bolivia\n",
      "Estonia\n"
     ]
    }
   ],
   "source": [
    "# or use for loops to iterate through an axis\n",
    "for i, row in df.iterrows():\n",
    "    print(row[\"Country\"])"
   ]
  },
  {
   "cell_type": "markdown",
   "metadata": {},
   "source": [
    "## Activity 2\n",
    "\n",
    " Let's pull some data from the `usa_gen` DataFrame that we have loaded based on some of the information given to you through the graphic above. *Hint: It is best to only use the data that you need.\n",
    "&nbsp;\n",
    "\n",
    "**Use the cells below to print the following values:**\n",
    "\n",
    "1. The total number of power plants in the US.\n",
    "2. The minimum, maximum and average capacity of the plants in MW.\n",
    "3. The number of listed solar farms.\n",
    "4. The number of different plant types listed.\n",
    "5. The year with the highest generation from all of the plants."
   ]
  },
  {
   "cell_type": "code",
   "execution_count": 15,
   "metadata": {
    "code_folding": []
   },
   "outputs": [
    {
     "name": "stdout",
     "output_type": "stream",
     "text": [
      " The number of plants with a capacity of at least 5MW is 5607\n"
     ]
    }
   ],
   "source": [
    "# The total number of power plants in the US with capacity greater than 5MW.\n",
    "power_plants_good_enough = len(usa_gen[usa_gen[\"capacity_mw\"] > 5])\n",
    "print(f' The number of plants with a capacity of at least 5MW is {power_plants_good_enough}')"
   ]
  },
  {
   "cell_type": "code",
   "execution_count": 16,
   "metadata": {},
   "outputs": [
    {
     "data": {
      "application/vnd.microsoft.datawrangler.viewer.v0+json": {
       "columns": [
        {
         "name": "index",
         "rawType": "object",
         "type": "string"
        },
        {
         "name": "capacity_mw",
         "rawType": "float64",
         "type": "float"
        }
       ],
       "ref": "52759e3f-c2d3-4988-a90c-6dd26285a429",
       "rows": [
        [
         "count",
         "11879.0"
        ],
        [
         "mean",
         "101.4094915396919"
        ],
        [
         "std",
         "317.97693204540747"
        ],
        [
         "min",
         "0.0"
        ],
        [
         "25%",
         "1.4"
        ],
        [
         "50%",
         "5.0"
        ],
        [
         "75%",
         "41.75"
        ],
        [
         "max",
         "6809.0"
        ]
       ],
       "shape": {
        "columns": 1,
        "rows": 8
       }
      },
      "text/html": [
       "<div>\n",
       "<style scoped>\n",
       "    .dataframe tbody tr th:only-of-type {\n",
       "        vertical-align: middle;\n",
       "    }\n",
       "\n",
       "    .dataframe tbody tr th {\n",
       "        vertical-align: top;\n",
       "    }\n",
       "\n",
       "    .dataframe thead th {\n",
       "        text-align: right;\n",
       "    }\n",
       "</style>\n",
       "<table border=\"1\" class=\"dataframe\">\n",
       "  <thead>\n",
       "    <tr style=\"text-align: right;\">\n",
       "      <th></th>\n",
       "      <th>capacity_mw</th>\n",
       "    </tr>\n",
       "  </thead>\n",
       "  <tbody>\n",
       "    <tr>\n",
       "      <th>count</th>\n",
       "      <td>11879.000000</td>\n",
       "    </tr>\n",
       "    <tr>\n",
       "      <th>mean</th>\n",
       "      <td>101.409492</td>\n",
       "    </tr>\n",
       "    <tr>\n",
       "      <th>std</th>\n",
       "      <td>317.976932</td>\n",
       "    </tr>\n",
       "    <tr>\n",
       "      <th>min</th>\n",
       "      <td>0.000000</td>\n",
       "    </tr>\n",
       "    <tr>\n",
       "      <th>25%</th>\n",
       "      <td>1.400000</td>\n",
       "    </tr>\n",
       "    <tr>\n",
       "      <th>50%</th>\n",
       "      <td>5.000000</td>\n",
       "    </tr>\n",
       "    <tr>\n",
       "      <th>75%</th>\n",
       "      <td>41.750000</td>\n",
       "    </tr>\n",
       "    <tr>\n",
       "      <th>max</th>\n",
       "      <td>6809.000000</td>\n",
       "    </tr>\n",
       "  </tbody>\n",
       "</table>\n",
       "</div>"
      ],
      "text/plain": [
       "        capacity_mw\n",
       "count  11879.000000\n",
       "mean     101.409492\n",
       "std      317.976932\n",
       "min        0.000000\n",
       "25%        1.400000\n",
       "50%        5.000000\n",
       "75%       41.750000\n",
       "max     6809.000000"
      ]
     },
     "execution_count": 16,
     "metadata": {},
     "output_type": "execute_result"
    }
   ],
   "source": [
    "# The minimum, maximum and average capacity of the plants in MW.\n",
    "usa_gen[[\"capacity_mw\"]].describe()"
   ]
  },
  {
   "cell_type": "code",
   "execution_count": 27,
   "metadata": {},
   "outputs": [
    {
     "name": "stdout",
     "output_type": "stream",
     "text": [
      " The number of solar plants is 3287\n"
     ]
    }
   ],
   "source": [
    "# The number of listed solar farms.\n",
    "number_of_solar = len(usa_gen[usa_gen[\"primary_fuel\"]== \"Solar\"])\n",
    "print(f' The number of solar plants is {number_of_solar}')"
   ]
  },
  {
   "cell_type": "code",
   "execution_count": 20,
   "metadata": {},
   "outputs": [
    {
     "name": "stdout",
     "output_type": "stream",
     "text": [
      " The different types of plants are 15\n"
     ]
    }
   ],
   "source": [
    "# The number of different plant types listed.\n",
    "type_plants = len(usa_gen[\"primary_fuel\"].unique())\n",
    "print(f' The different types of plants are {type_plants}')"
   ]
  },
  {
   "cell_type": "code",
   "execution_count": null,
   "metadata": {},
   "outputs": [
    {
     "data": {
      "text/plain": [
       "Index([4192], dtype='int64')"
      ]
     },
     "execution_count": 26,
     "metadata": {},
     "output_type": "execute_result"
    }
   ],
   "source": [
    "# The year with the highest generation from all of the plants.\n",
    " # Check the correctum"
   ]
  },
  {
   "cell_type": "markdown",
   "metadata": {},
   "source": [
    "### Statistics, plotting etc\n",
    "Pandas also provides lots of functions that can be used for statistical analysis and plotting (and many more) of large datasets"
   ]
  },
  {
   "cell_type": "code",
   "execution_count": 21,
   "metadata": {},
   "outputs": [
    {
     "data": {
      "application/vnd.microsoft.datawrangler.viewer.v0+json": {
       "columns": [
        {
         "name": "index",
         "rawType": "object",
         "type": "string"
        },
        {
         "name": "capacity_mw",
         "rawType": "float64",
         "type": "float"
        }
       ],
       "ref": "1c6a813b-ec71-475d-8e36-2c6ba770c4e1",
       "rows": [
        [
         "count",
         "11879.0"
        ],
        [
         "mean",
         "101.4094915396919"
        ],
        [
         "std",
         "317.97693204540747"
        ],
        [
         "min",
         "0.0"
        ],
        [
         "25%",
         "1.4"
        ],
        [
         "50%",
         "5.0"
        ],
        [
         "75%",
         "41.75"
        ],
        [
         "max",
         "6809.0"
        ]
       ],
       "shape": {
        "columns": 1,
        "rows": 8
       }
      },
      "text/plain": [
       "count    11879.000000\n",
       "mean       101.409492\n",
       "std        317.976932\n",
       "min          0.000000\n",
       "25%          1.400000\n",
       "50%          5.000000\n",
       "75%         41.750000\n",
       "max       6809.000000\n",
       "Name: capacity_mw, dtype: float64"
      ]
     },
     "execution_count": 21,
     "metadata": {},
     "output_type": "execute_result"
    }
   ],
   "source": [
    "# to calculate some summary statistics on the USA power plant capacity data\n",
    "usa_gen[\"capacity_mw\"].describe()"
   ]
  },
  {
   "cell_type": "code",
   "execution_count": 22,
   "metadata": {},
   "outputs": [
    {
     "data": {
      "text/plain": [
       "<Axes: xlabel='commissioning_year', ylabel='capacity_mw'>"
      ]
     },
     "execution_count": 22,
     "metadata": {},
     "output_type": "execute_result"
    },
    {
     "data": {
      "image/png": "[encoded data removed]",
      "text/plain": [
       "<Figure size 640x480 with 1 Axes>"
      ]
     },
     "metadata": {},
     "output_type": "display_data"
    }
   ],
   "source": [
    "# to plot capacity vs commissioning year\n",
    "usa_gen.plot(x=\"commissioning_year\", y=\"capacity_mw\", kind='scatter')"
   ]
  },
  {
   "cell_type": "markdown",
   "metadata": {},
   "source": [
    "## Activity 3\n",
    "Try changing the variables and type of plot produced to investigate other features in the data."
   ]
  },
  {
   "cell_type": "markdown",
   "metadata": {},
   "source": []
  }
 ],
 "metadata": {
  "anaconda-cloud": {},
  "kernelspec": {
   "display_name": "energy_systems",
   "language": "python",
   "name": "python3"
  },
  "language_info": {
   "codemirror_mode": {
    "name": "ipython",
    "version": 3
   },
   "file_extension": ".py",
   "mimetype": "text/x-python",
   "name": "python",
   "nbconvert_exporter": "python",
   "pygments_lexer": "ipython3",
   "version": "3.12.12"
  }
 },
 "nbformat": 4,
 "nbformat_minor": 4
}
