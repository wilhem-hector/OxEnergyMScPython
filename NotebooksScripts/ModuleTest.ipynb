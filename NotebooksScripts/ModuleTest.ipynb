{
 "cells": [
  {
   "cell_type": "markdown",
   "id": "aac0b439-05ce-4ca8-8fb2-8654fc2eb953",
   "metadata": {},
   "source": [
    "# Energy Systems Python Skills Activity Notebook\n",
    "Use this notebook to test the output of your code written as part of the classes and modules activity.\n",
    "\n",
    "**If you haven't already done so, complete the exercises Battery, PV, Classes and Modules activities**"
   ]
  },
  {
   "cell_type": "markdown",
   "id": "b8899a1f-5224-4ef2-9f35-6a1cd8afc759",
   "metadata": {},
   "source": [
    "## Import your module\n",
    "Import your module script. Edit as appropriate with the name of your script.\n",
    "\n",
    "Your own modules (and packages) are imported in the same way you import an external library. However, you need to make sure the script knows where to look for you module. The easiest way to achieve this is to have your module in the current working directory (usually the same folder as the file you are trying to import into i.e. this file). Otherwise, you have to direct python to look in the correct place (using something like: `sys.path.append(os.path.abspath(\"modulepath\"))`)."
   ]
  },
  {
   "cell_type": "code",
   "execution_count": 23,
   "id": "fed6a346-6081-4b6b-a16b-9e506dcf171f",
   "metadata": {},
   "outputs": [],
   "source": [
    "import ModuleStarter as es"
   ]
  },
  {
   "cell_type": "markdown",
   "id": "ba31926b-c62b-4ab9-a5ae-348e0405b209",
   "metadata": {},
   "source": [
    "## Test your PV array size calculation function"
   ]
  },
  {
   "cell_type": "code",
   "execution_count": 24,
   "id": "06a92261-f6de-45bf-be28-fbee0bf915a9",
   "metadata": {},
   "outputs": [
    {
     "name": "stdout",
     "output_type": "stream",
     "text": [
      "PV array consists of 240.0 panels with total capacity 96.0 kW\n"
     ]
    }
   ],
   "source": [
    "# input parameters\n",
    "building_width = 15.0  # building width (m)\n",
    "building_length = 28.0  # building length (m)\n",
    "roof_angle = 22.0  # angle of roof incline deg\n",
    "pv_height = 1690  # width of PV panel in mm\n",
    "pv_width= 1046  # height of PV panel in mm\n",
    "pv_power = 400.0  # power of PV panel in Wp\n",
    "\n",
    "# call your PV array calculation function using dot notation to \n",
    "# access the function contained within your module.\n",
    "power_capacity, total_panels = es.calc_pv_array_size(building_length, building_width,\n",
    "                                                     pv_width, pv_height, pv_power)\n",
    "\n",
    "# print output\n",
    "print(\"PV array consists of {} panels with total capacity {} kW\".format(total_panels, power_capacity/1000)) "
   ]
  },
  {
   "cell_type": "markdown",
   "id": "f925ee80-ccb6-43f7-9ddb-bc0780912e62",
   "metadata": {},
   "source": [
    "## Test your battery object"
   ]
  },
  {
   "cell_type": "code",
   "execution_count": 25,
   "id": "84955189-8205-48b1-a46e-642adc2bc7b4",
   "metadata": {},
   "outputs": [
    {
     "name": "stdout",
     "output_type": "stream",
     "text": [
      "Final battery state of charge 40.3 %\n"
     ]
    }
   ],
   "source": [
    "demand = [3, 5, -1, -4, -3, 0, 5, 8, -3, 8, -5, 1, 4, 7, 5, 2, 2, -5, -2, -5, -0, 7, 3, -5]\n",
    "net_demand = [0] * len(demand)\n",
    "dt= 1  # Timestep\n",
    "b1 = es.Storage(1, len(demand), dt) # Initialize battery object\n",
    "for t, d in enumerate(demand):  # t is the index, d is the corresponding demand index\n",
    "    net_demand[t] = b1.battery_charge_action(d, t)\n",
    "\n",
    "print(\"Final battery state of charge {:.1f} %\".format((b1.soc_E[-1]/(b1.max_power*dt))*100))"
   ]
  },
  {
   "cell_type": "markdown",
   "id": "bd0296ec-f09f-49d4-9536-bab0faf52819",
   "metadata": {},
   "source": [
    "## Advanced\n",
    "Have a go at the following activity if you finish the Numpy, Pandas and Plotting activities early on Day 2.\n",
    "\n",
    "Some starting code has been included."
   ]
  },
  {
   "cell_type": "markdown",
   "id": "06315ba5-e166-480b-8aec-877ee3f48e18",
   "metadata": {},
   "source": [
    "Model a PV + battery system for Holywell House.\n",
    "\n",
    "Hourly solar generation data (kW/kWp) for Oxford has been downloaded from renewables.ninja to the data folder (oxford_pv_2024.csv). Hourly demand data for Holywell House is saved as holywell_elec_2024.csv.\n",
    "\n",
    "1. Import the data using pandas.\n",
    "2. size a PV array for Holywell House and calculate the hourly output of the PV array\n",
    "3. Calculate the net demand for Holywell House only considering demand and PV generation\n",
    "4. model the operation of a battery for Holywell House\n",
    "5. calculate the cost energy cost for the 3 scenarios: no PV or battery, PV no battery, PV and battery.\n",
    "6. iterate through a range of PV and battery sizes. Include the capital cost of PV and Battery. Plot the total system costs as a function of PV and Battery size. Comment on your results."
   ]
  },
  {
   "cell_type": "code",
   "execution_count": 38,
   "id": "e5ed6d6b-e527-4f58-81b6-ab7e6510afa2",
   "metadata": {},
   "outputs": [],
   "source": [
    "import pandas as pd\n",
    "# 1 import the data\n",
    "pv_cf_data = pd.read_csv(r\"C:\\Users\\hecto\\Documents\\GitHub\\OxEnergyMScPython\\Data\\oxford_pv_2024.csv\")\n",
    "demand_data = pd.read_csv(r\"C:\\Users\\hecto\\Documents\\GitHub\\OxEnergyMScPython\\Data\\holywell_elec_2024.csv\")\n"
   ]
  },
  {
   "cell_type": "code",
   "execution_count": 39,
   "id": "83cd6756-4682-4137-bf07-d78d71821b29",
   "metadata": {},
   "outputs": [],
   "source": [
    "# check the frequency of your timeseries data and resample to hourly if necessary\n",
    "pv_cf_timeseries = pv_cf_data.set_index('local_time')"
   ]
  },
  {
   "cell_type": "code",
   "execution_count": null,
   "id": "af8c4509-6e33-4d61-887a-2c5d9e37a12c",
   "metadata": {},
   "outputs": [
    {
     "name": "stdout",
     "output_type": "stream",
     "text": [
      "The PV array at Holywell House consists of 153.0 panels with total capacity 61.2 kW\n"
     ]
    }
   ],
   "source": [
    "# 2) holywell house PV array capacity\n",
    "building_width = 9.0  # building width (m)\n",
    "building_length = 30.0  # building length (m)\n",
    "roof_angle = 22.0  # angle of roof incline deg\n",
    "pv_height = 1690  # width of PV panel in mm\n",
    "pv_width= 1046  # height of PV panel in mm\n",
    "pv_power = 400.0  # power of PV panel in Wp\n",
    "\n",
    "power_capacity, total_panels = es.calc_pv_array_size(building_length, building_width,\n",
    "                                                     pv_width, pv_height, pv_power)\n",
    "\n",
    "# print output\n",
    "print(\"The PV array at Holywell House consists of {} panels with total capacity {} kW\".format(total_panels, power_capacity/1000)) "
   ]
  },
  {
   "cell_type": "code",
   "execution_count": 17,
   "id": "5a21a963",
   "metadata": {},
   "outputs": [],
   "source": [
    "# 2b) calculate the hourly output of the PV array"
   ]
  },
  {
   "cell_type": "code",
   "execution_count": 18,
   "id": "eb6c2efe",
   "metadata": {},
   "outputs": [],
   "source": [
    "# 3) calculate the net demand for holywell house considering demand and PV generation"
   ]
  },
  {
   "cell_type": "code",
   "execution_count": 19,
   "id": "d12040dc",
   "metadata": {},
   "outputs": [],
   "source": [
    "# 4) setup your storage asset and model the operation of the battery"
   ]
  },
  {
   "cell_type": "code",
   "execution_count": 20,
   "id": "5616551f",
   "metadata": {},
   "outputs": [],
   "source": [
    "# 5) calculate the cost of energy for the 3 scenarios: no PV or battery, PV no battery, PV and battery."
   ]
  },
  {
   "cell_type": "code",
   "execution_count": 21,
   "id": "98c7c10f",
   "metadata": {},
   "outputs": [],
   "source": [
    "# 6) perform a grid search over a range of PV and battery sizes, calculating the total system cost for each combination"
   ]
  },
  {
   "cell_type": "code",
   "execution_count": 22,
   "id": "45db9c6c",
   "metadata": {},
   "outputs": [],
   "source": [
    "# plot your results and discuss"
   ]
  }
 ],
 "metadata": {
  "kernelspec": {
   "display_name": "energy_systems",
   "language": "python",
   "name": "python3"
  },
  "language_info": {
   "codemirror_mode": {
    "name": "ipython",
    "version": 3
   },
   "file_extension": ".py",
   "mimetype": "text/x-python",
   "name": "python",
   "nbconvert_exporter": "python",
   "pygments_lexer": "ipython3",
   "version": "3.12.12"
  }
 },
 "nbformat": 4,
 "nbformat_minor": 5
}
